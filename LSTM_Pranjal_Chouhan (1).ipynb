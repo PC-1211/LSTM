{
  "nbformat": 4,
  "nbformat_minor": 0,
  "metadata": {
    "colab": {
      "name": "LSTM_Pranjal_Chouhan.ipynb",
      "provenance": []
    },
    "kernelspec": {
      "name": "python3",
      "display_name": "Python 3"
    }
  },
  "cells": [
    {
      "cell_type": "markdown",
      "metadata": {
        "id": "_eKYtW8-q8vb"
      },
      "source": [
        "#**Artificial Intelligence Assignment 2**\r\n",
        "\r\n",
        "CREATE A DATASET OF THE INCREASING HEIGHT OF A CHILD EACH YEAR AND PREDICT THE HEIGHT OF THE CHILD FOR THE NEXT 10 YEARS"
      ]
    },
    {
      "cell_type": "code",
      "metadata": {
        "id": "fZVRZ013tsad"
      },
      "source": [
        "import numpy as np\r\n",
        "import pandas as pd\r\n",
        "from pandas import DataFrame\r\n",
        "import matplotlib.pyplot as plt\r\n",
        "from sklearn.metrics import mean_squared_error\r\n",
        "import math\r\n",
        "from math import sqrt\r\n",
        "from sklearn.model_selection import train_test_split\r\n",
        "from keras.models import Sequential\r\n",
        "from keras.layers import Dense\r\n",
        "from keras.layers import LSTM\r\n",
        "from tensorflow.keras.layers import Flatten"
      ],
      "execution_count": null,
      "outputs": []
    },
    {
      "cell_type": "code",
      "metadata": {
        "colab": {
          "base_uri": "https://localhost:8080/"
        },
        "id": "Tv980Zbiqzag",
        "outputId": "374fb048-07d4-49b7-afa1-c0b97c455d25"
      },
      "source": [
        "#Creating a dataset\r\n",
        "\r\n",
        "age_year = [('127','2011') , ('130','2012'), ('135','2013'), ('138','2014'), ('140','1015'), ('149','2016'), ('156','2017'), ('164','2018'), ('170','2019'), ('175','2020')]\r\n",
        "df = DataFrame(age_year,columns=['Height in CM','year'])\r\n",
        "print(df)\r\n"
      ],
      "execution_count": null,
      "outputs": [
        {
          "output_type": "stream",
          "text": [
            "  Height in CM  year\n",
            "0          127  2011\n",
            "1          130  2012\n",
            "2          135  2013\n",
            "3          138  2014\n",
            "4          140  1015\n",
            "5          149  2016\n",
            "6          156  2017\n",
            "7          164  2018\n",
            "8          170  2019\n",
            "9          175  2020\n"
          ],
          "name": "stdout"
        }
      ]
    },
    {
      "cell_type": "code",
      "metadata": {
        "colab": {
          "base_uri": "https://localhost:8080/"
        },
        "id": "bEteMELhuL3C",
        "outputId": "dd7d9fea-d4b8-4277-bcdf-8a716bacff63"
      },
      "source": [
        "df.info()"
      ],
      "execution_count": null,
      "outputs": [
        {
          "output_type": "stream",
          "text": [
            "<class 'pandas.core.frame.DataFrame'>\n",
            "RangeIndex: 10 entries, 0 to 9\n",
            "Data columns (total 2 columns):\n",
            " #   Column        Non-Null Count  Dtype \n",
            "---  ------        --------------  ----- \n",
            " 0   Height in CM  10 non-null     object\n",
            " 1   year          10 non-null     object\n",
            "dtypes: object(2)\n",
            "memory usage: 288.0+ bytes\n"
          ],
          "name": "stdout"
        }
      ]
    },
    {
      "cell_type": "code",
      "metadata": {
        "colab": {
          "base_uri": "https://localhost:8080/",
          "height": 170
        },
        "id": "f98R0RXKuSaG",
        "outputId": "64a515bc-7836-47e4-c946-f42846cb21d9"
      },
      "source": [
        "df.describe()"
      ],
      "execution_count": null,
      "outputs": [
        {
          "output_type": "execute_result",
          "data": {
            "text/html": [
              "<div>\n",
              "<style scoped>\n",
              "    .dataframe tbody tr th:only-of-type {\n",
              "        vertical-align: middle;\n",
              "    }\n",
              "\n",
              "    .dataframe tbody tr th {\n",
              "        vertical-align: top;\n",
              "    }\n",
              "\n",
              "    .dataframe thead th {\n",
              "        text-align: right;\n",
              "    }\n",
              "</style>\n",
              "<table border=\"1\" class=\"dataframe\">\n",
              "  <thead>\n",
              "    <tr style=\"text-align: right;\">\n",
              "      <th></th>\n",
              "      <th>Height in CM</th>\n",
              "      <th>year</th>\n",
              "    </tr>\n",
              "  </thead>\n",
              "  <tbody>\n",
              "    <tr>\n",
              "      <th>count</th>\n",
              "      <td>10</td>\n",
              "      <td>10</td>\n",
              "    </tr>\n",
              "    <tr>\n",
              "      <th>unique</th>\n",
              "      <td>10</td>\n",
              "      <td>10</td>\n",
              "    </tr>\n",
              "    <tr>\n",
              "      <th>top</th>\n",
              "      <td>175</td>\n",
              "      <td>2019</td>\n",
              "    </tr>\n",
              "    <tr>\n",
              "      <th>freq</th>\n",
              "      <td>1</td>\n",
              "      <td>1</td>\n",
              "    </tr>\n",
              "  </tbody>\n",
              "</table>\n",
              "</div>"
            ],
            "text/plain": [
              "       Height in CM  year\n",
              "count            10    10\n",
              "unique           10    10\n",
              "top             175  2019\n",
              "freq              1     1"
            ]
          },
          "metadata": {
            "tags": []
          },
          "execution_count": 50
        }
      ]
    },
    {
      "cell_type": "code",
      "metadata": {
        "colab": {
          "base_uri": "https://localhost:8080/"
        },
        "id": "syTvZGjOKPAg",
        "outputId": "63a17bc0-bf33-4d3c-b56a-1ac7440d4c67"
      },
      "source": [
        "df.shape"
      ],
      "execution_count": null,
      "outputs": [
        {
          "output_type": "execute_result",
          "data": {
            "text/plain": [
              "(10, 2)"
            ]
          },
          "metadata": {
            "tags": []
          },
          "execution_count": 51
        }
      ]
    },
    {
      "cell_type": "code",
      "metadata": {
        "colab": {
          "base_uri": "https://localhost:8080/"
        },
        "id": "5LYNGX1ZKkwq",
        "outputId": "0f2e9bc8-1f2c-4cd1-e409-26fea985bdc2"
      },
      "source": [
        "df.isnull().sum()"
      ],
      "execution_count": null,
      "outputs": [
        {
          "output_type": "execute_result",
          "data": {
            "text/plain": [
              "Height in CM    0\n",
              "year            0\n",
              "dtype: int64"
            ]
          },
          "metadata": {
            "tags": []
          },
          "execution_count": 52
        }
      ]
    },
    {
      "cell_type": "code",
      "metadata": {
        "id": "imFTGd9rKsFj"
      },
      "source": [
        "#Preparing independent and dependent features\r\n",
        "\r\n",
        "def prepare_data(df, n_features):\r\n",
        "\tX, y =[],[]\r\n",
        "\tfor i in range(len(df)):\r\n",
        "\t\t\r\n",
        "\t\tend_ix = i + n_features\r\n",
        "\t\r\n",
        "\t\tif end_ix > len(df)-1:\r\n",
        "\t\t\tbreak\r\n",
        "\t\r\n",
        "\t\tseq_x, seq_y = df[i:end_ix], df[end_ix]\r\n",
        "\t\tX.append(seq_x)\r\n",
        "\t\ty.append(seq_y)\r\n",
        "\treturn np.array(X), np.array(y)"
      ],
      "execution_count": null,
      "outputs": []
    },
    {
      "cell_type": "code",
      "metadata": {
        "id": "9_ciNQv1K9oT"
      },
      "source": [
        "#Define input sequence\r\n",
        "df_2 = [127, 130, 135, 138, 140, 149, 156, 164, 170, 175] \r\n",
        "\r\n",
        "#Number of time steps\r\n",
        "n_steps = 3\r\n",
        "\r\n",
        "#Split into samples\r\n",
        "X, y = prepare_data(df_2, n_steps)"
      ],
      "execution_count": null,
      "outputs": []
    },
    {
      "cell_type": "code",
      "metadata": {
        "colab": {
          "base_uri": "https://localhost:8080/"
        },
        "id": "qjNfTKtDLe9c",
        "outputId": "f8b58bcd-e005-4d08-c3ba-ee9b2d6bd4ae"
      },
      "source": [
        "print(X), print(y)"
      ],
      "execution_count": null,
      "outputs": [
        {
          "output_type": "stream",
          "text": [
            "[[127 130 135]\n",
            " [130 135 138]\n",
            " [135 138 140]\n",
            " [138 140 149]\n",
            " [140 149 156]\n",
            " [149 156 164]\n",
            " [156 164 170]]\n",
            "[138 140 149 156 164 170 175]\n"
          ],
          "name": "stdout"
        },
        {
          "output_type": "execute_result",
          "data": {
            "text/plain": [
              "(None, None)"
            ]
          },
          "metadata": {
            "tags": []
          },
          "execution_count": 55
        }
      ]
    },
    {
      "cell_type": "code",
      "metadata": {
        "id": "xZ0nUA_8LkZL"
      },
      "source": [
        "#Reshape\r\n",
        "\r\n",
        "n_features = 1\r\n",
        "\r\n",
        "X = X.reshape((X.shape[0], X.shape[1], n_features))"
      ],
      "execution_count": null,
      "outputs": []
    },
    {
      "cell_type": "code",
      "metadata": {
        "colab": {
          "base_uri": "https://localhost:8080/"
        },
        "id": "gFWE94JsL3H2",
        "outputId": "a1626a0a-3a69-48ff-f857-e40e41668291"
      },
      "source": [
        "print(X), print(y)"
      ],
      "execution_count": null,
      "outputs": [
        {
          "output_type": "stream",
          "text": [
            "[[[127]\n",
            "  [130]\n",
            "  [135]]\n",
            "\n",
            " [[130]\n",
            "  [135]\n",
            "  [138]]\n",
            "\n",
            " [[135]\n",
            "  [138]\n",
            "  [140]]\n",
            "\n",
            " [[138]\n",
            "  [140]\n",
            "  [149]]\n",
            "\n",
            " [[140]\n",
            "  [149]\n",
            "  [156]]\n",
            "\n",
            " [[149]\n",
            "  [156]\n",
            "  [164]]\n",
            "\n",
            " [[156]\n",
            "  [164]\n",
            "  [170]]]\n",
            "[138 140 149 156 164 170 175]\n"
          ],
          "name": "stdout"
        },
        {
          "output_type": "execute_result",
          "data": {
            "text/plain": [
              "(None, None)"
            ]
          },
          "metadata": {
            "tags": []
          },
          "execution_count": 57
        }
      ]
    },
    {
      "cell_type": "markdown",
      "metadata": {
        "id": "PhN7ZN9_MBus"
      },
      "source": [
        "###MAKING AN LSTM MODEL"
      ]
    },
    {
      "cell_type": "code",
      "metadata": {
        "id": "NNykfsQCL808"
      },
      "source": [
        "#Define model\r\n",
        "\r\n",
        "lstm = Sequential()\r\n",
        "lstm.add(LSTM(50, activation='relu', return_sequences=True, input_shape=(n_steps, n_features)))\r\n",
        "lstm.add(LSTM(50, activation='relu'))\r\n",
        "lstm.add(Dense(1))\r\n",
        "lstm.compile(optimizer='adamax', loss='mse')"
      ],
      "execution_count": null,
      "outputs": []
    },
    {
      "cell_type": "code",
      "metadata": {
        "colab": {
          "base_uri": "https://localhost:8080/"
        },
        "id": "0gTo9Nd_QM0N",
        "outputId": "d45dadbf-b8c4-4aef-ec6b-52823754a4b4"
      },
      "source": [
        "#Fit lstm\r\n",
        "\r\n",
        "lstm.fit(X, y, epochs=150, verbose=1)"
      ],
      "execution_count": null,
      "outputs": [
        {
          "output_type": "stream",
          "text": [
            "Epoch 1/150\n",
            "1/1 [==============================] - 2s 2s/step - loss: 26182.6582\n",
            "Epoch 2/150\n",
            "1/1 [==============================] - 0s 10ms/step - loss: 25450.5117\n",
            "Epoch 3/150\n",
            "1/1 [==============================] - 0s 10ms/step - loss: 24772.8086\n",
            "Epoch 4/150\n",
            "1/1 [==============================] - 0s 9ms/step - loss: 24184.1211\n",
            "Epoch 5/150\n",
            "1/1 [==============================] - 0s 5ms/step - loss: 23606.0625\n",
            "Epoch 6/150\n",
            "1/1 [==============================] - 0s 7ms/step - loss: 23041.9980\n",
            "Epoch 7/150\n",
            "1/1 [==============================] - 0s 7ms/step - loss: 22536.8750\n",
            "Epoch 8/150\n",
            "1/1 [==============================] - 0s 8ms/step - loss: 22086.5156\n",
            "Epoch 9/150\n",
            "1/1 [==============================] - 0s 9ms/step - loss: 21669.7090\n",
            "Epoch 10/150\n",
            "1/1 [==============================] - 0s 7ms/step - loss: 21271.3789\n",
            "Epoch 11/150\n",
            "1/1 [==============================] - 0s 10ms/step - loss: 20881.9043\n",
            "Epoch 12/150\n",
            "1/1 [==============================] - 0s 10ms/step - loss: 20490.9023\n",
            "Epoch 13/150\n",
            "1/1 [==============================] - 0s 10ms/step - loss: 20103.4941\n",
            "Epoch 14/150\n",
            "1/1 [==============================] - 0s 10ms/step - loss: 19711.2480\n",
            "Epoch 15/150\n",
            "1/1 [==============================] - 0s 9ms/step - loss: 19317.7227\n",
            "Epoch 16/150\n",
            "1/1 [==============================] - 0s 8ms/step - loss: 18926.7988\n",
            "Epoch 17/150\n",
            "1/1 [==============================] - 0s 9ms/step - loss: 18543.5332\n",
            "Epoch 18/150\n",
            "1/1 [==============================] - 0s 11ms/step - loss: 18176.7852\n",
            "Epoch 19/150\n",
            "1/1 [==============================] - 0s 11ms/step - loss: 17818.0234\n",
            "Epoch 20/150\n",
            "1/1 [==============================] - 0s 11ms/step - loss: 17455.4492\n",
            "Epoch 21/150\n",
            "1/1 [==============================] - 0s 10ms/step - loss: 17087.7910\n",
            "Epoch 22/150\n",
            "1/1 [==============================] - 0s 11ms/step - loss: 16708.4629\n",
            "Epoch 23/150\n",
            "1/1 [==============================] - 0s 11ms/step - loss: 16310.3438\n",
            "Epoch 24/150\n",
            "1/1 [==============================] - 0s 11ms/step - loss: 15883.4199\n",
            "Epoch 25/150\n",
            "1/1 [==============================] - 0s 11ms/step - loss: 15418.1270\n",
            "Epoch 26/150\n",
            "1/1 [==============================] - 0s 11ms/step - loss: 14892.9170\n",
            "Epoch 27/150\n",
            "1/1 [==============================] - 0s 11ms/step - loss: 14310.5049\n",
            "Epoch 28/150\n",
            "1/1 [==============================] - 0s 11ms/step - loss: 13692.0322\n",
            "Epoch 29/150\n",
            "1/1 [==============================] - 0s 11ms/step - loss: 13123.9639\n",
            "Epoch 30/150\n",
            "1/1 [==============================] - 0s 11ms/step - loss: 12628.3662\n",
            "Epoch 31/150\n",
            "1/1 [==============================] - 0s 10ms/step - loss: 12162.7998\n",
            "Epoch 32/150\n",
            "1/1 [==============================] - 0s 11ms/step - loss: 11707.1162\n",
            "Epoch 33/150\n",
            "1/1 [==============================] - 0s 12ms/step - loss: 11246.0518\n",
            "Epoch 34/150\n",
            "1/1 [==============================] - 0s 10ms/step - loss: 10756.8652\n",
            "Epoch 35/150\n",
            "1/1 [==============================] - 0s 10ms/step - loss: 10233.4375\n",
            "Epoch 36/150\n",
            "1/1 [==============================] - 0s 10ms/step - loss: 9670.9365\n",
            "Epoch 37/150\n",
            "1/1 [==============================] - 0s 10ms/step - loss: 9070.2139\n",
            "Epoch 38/150\n",
            "1/1 [==============================] - 0s 10ms/step - loss: 8445.5752\n",
            "Epoch 39/150\n",
            "1/1 [==============================] - 0s 11ms/step - loss: 7824.0112\n",
            "Epoch 40/150\n",
            "1/1 [==============================] - 0s 12ms/step - loss: 7239.9678\n",
            "Epoch 41/150\n",
            "1/1 [==============================] - 0s 11ms/step - loss: 6682.2510\n",
            "Epoch 42/150\n",
            "1/1 [==============================] - 0s 12ms/step - loss: 6136.1870\n",
            "Epoch 43/150\n",
            "1/1 [==============================] - 0s 11ms/step - loss: 5596.1519\n",
            "Epoch 44/150\n",
            "1/1 [==============================] - 0s 10ms/step - loss: 5062.9702\n",
            "Epoch 45/150\n",
            "1/1 [==============================] - 0s 48ms/step - loss: 4535.9663\n",
            "Epoch 46/150\n",
            "1/1 [==============================] - 0s 9ms/step - loss: 4011.1653\n",
            "Epoch 47/150\n",
            "1/1 [==============================] - 0s 12ms/step - loss: 3474.4570\n",
            "Epoch 48/150\n",
            "1/1 [==============================] - 0s 16ms/step - loss: 2906.6194\n",
            "Epoch 49/150\n",
            "1/1 [==============================] - 0s 9ms/step - loss: 2350.6328\n",
            "Epoch 50/150\n",
            "1/1 [==============================] - 0s 9ms/step - loss: 1868.1139\n",
            "Epoch 51/150\n",
            "1/1 [==============================] - 0s 9ms/step - loss: 1451.3496\n",
            "Epoch 52/150\n",
            "1/1 [==============================] - 0s 11ms/step - loss: 1082.7797\n",
            "Epoch 53/150\n",
            "1/1 [==============================] - 0s 16ms/step - loss: 770.2634\n",
            "Epoch 54/150\n",
            "1/1 [==============================] - 0s 9ms/step - loss: 523.8781\n",
            "Epoch 55/150\n",
            "1/1 [==============================] - 0s 10ms/step - loss: 337.8912\n",
            "Epoch 56/150\n",
            "1/1 [==============================] - 0s 8ms/step - loss: 197.9166\n",
            "Epoch 57/150\n",
            "1/1 [==============================] - 0s 9ms/step - loss: 96.3096\n",
            "Epoch 58/150\n",
            "1/1 [==============================] - 0s 10ms/step - loss: 34.9983\n",
            "Epoch 59/150\n",
            "1/1 [==============================] - 0s 14ms/step - loss: 11.4746\n",
            "Epoch 60/150\n",
            "1/1 [==============================] - 0s 10ms/step - loss: 22.5157\n",
            "Epoch 61/150\n",
            "1/1 [==============================] - 0s 12ms/step - loss: 57.3615\n",
            "Epoch 62/150\n",
            "1/1 [==============================] - 0s 13ms/step - loss: 102.0380\n",
            "Epoch 63/150\n",
            "1/1 [==============================] - 0s 13ms/step - loss: 147.2070\n",
            "Epoch 64/150\n",
            "1/1 [==============================] - 0s 13ms/step - loss: 186.4509\n",
            "Epoch 65/150\n",
            "1/1 [==============================] - 0s 8ms/step - loss: 216.4604\n",
            "Epoch 66/150\n",
            "1/1 [==============================] - 0s 13ms/step - loss: 234.9718\n",
            "Epoch 67/150\n",
            "1/1 [==============================] - 0s 18ms/step - loss: 240.0208\n",
            "Epoch 68/150\n",
            "1/1 [==============================] - 0s 19ms/step - loss: 230.0706\n",
            "Epoch 69/150\n",
            "1/1 [==============================] - 0s 10ms/step - loss: 203.7623\n",
            "Epoch 70/150\n",
            "1/1 [==============================] - 0s 7ms/step - loss: 160.5641\n",
            "Epoch 71/150\n",
            "1/1 [==============================] - 0s 15ms/step - loss: 105.3692\n",
            "Epoch 72/150\n",
            "1/1 [==============================] - 0s 8ms/step - loss: 54.1968\n",
            "Epoch 73/150\n",
            "1/1 [==============================] - 0s 12ms/step - loss: 25.6558\n",
            "Epoch 74/150\n",
            "1/1 [==============================] - 0s 13ms/step - loss: 15.0447\n",
            "Epoch 75/150\n",
            "1/1 [==============================] - 0s 13ms/step - loss: 11.8594\n",
            "Epoch 76/150\n",
            "1/1 [==============================] - 0s 23ms/step - loss: 11.3193\n",
            "Epoch 77/150\n",
            "1/1 [==============================] - 0s 12ms/step - loss: 11.8239\n",
            "Epoch 78/150\n",
            "1/1 [==============================] - 0s 14ms/step - loss: 12.7855\n",
            "Epoch 79/150\n",
            "1/1 [==============================] - 0s 13ms/step - loss: 13.9176\n",
            "Epoch 80/150\n",
            "1/1 [==============================] - 0s 12ms/step - loss: 15.0492\n",
            "Epoch 81/150\n",
            "1/1 [==============================] - 0s 9ms/step - loss: 16.0742\n",
            "Epoch 82/150\n",
            "1/1 [==============================] - 0s 10ms/step - loss: 16.7287\n",
            "Epoch 83/150\n",
            "1/1 [==============================] - 0s 12ms/step - loss: 17.1288\n",
            "Epoch 84/150\n",
            "1/1 [==============================] - 0s 11ms/step - loss: 17.3296\n",
            "Epoch 85/150\n",
            "1/1 [==============================] - 0s 13ms/step - loss: 17.3367\n",
            "Epoch 86/150\n",
            "1/1 [==============================] - 0s 11ms/step - loss: 17.1725\n",
            "Epoch 87/150\n",
            "1/1 [==============================] - 0s 8ms/step - loss: 16.8632\n",
            "Epoch 88/150\n",
            "1/1 [==============================] - 0s 11ms/step - loss: 16.4331\n",
            "Epoch 89/150\n",
            "1/1 [==============================] - 0s 10ms/step - loss: 15.9194\n",
            "Epoch 90/150\n",
            "1/1 [==============================] - 0s 16ms/step - loss: 15.3541\n",
            "Epoch 91/150\n",
            "1/1 [==============================] - 0s 12ms/step - loss: 14.7642\n",
            "Epoch 92/150\n",
            "1/1 [==============================] - 0s 10ms/step - loss: 14.1774\n",
            "Epoch 93/150\n",
            "1/1 [==============================] - 0s 10ms/step - loss: 13.6166\n",
            "Epoch 94/150\n",
            "1/1 [==============================] - 0s 10ms/step - loss: 13.0987\n",
            "Epoch 95/150\n",
            "1/1 [==============================] - 0s 11ms/step - loss: 12.6364\n",
            "Epoch 96/150\n",
            "1/1 [==============================] - 0s 11ms/step - loss: 12.2375\n",
            "Epoch 97/150\n",
            "1/1 [==============================] - 0s 11ms/step - loss: 11.9056\n",
            "Epoch 98/150\n",
            "1/1 [==============================] - 0s 11ms/step - loss: 11.6404\n",
            "Epoch 99/150\n",
            "1/1 [==============================] - 0s 14ms/step - loss: 11.4392\n",
            "Epoch 100/150\n",
            "1/1 [==============================] - 0s 11ms/step - loss: 11.2964\n",
            "Epoch 101/150\n",
            "1/1 [==============================] - 0s 9ms/step - loss: 11.2049\n",
            "Epoch 102/150\n",
            "1/1 [==============================] - 0s 10ms/step - loss: 11.1566\n",
            "Epoch 103/150\n",
            "1/1 [==============================] - 0s 10ms/step - loss: 11.1430\n",
            "Epoch 104/150\n",
            "1/1 [==============================] - 0s 10ms/step - loss: 11.1555\n",
            "Epoch 105/150\n",
            "1/1 [==============================] - 0s 10ms/step - loss: 11.1861\n",
            "Epoch 106/150\n",
            "1/1 [==============================] - 0s 10ms/step - loss: 11.2274\n",
            "Epoch 107/150\n",
            "1/1 [==============================] - 0s 10ms/step - loss: 11.2731\n",
            "Epoch 108/150\n",
            "1/1 [==============================] - 0s 10ms/step - loss: 11.3181\n",
            "Epoch 109/150\n",
            "1/1 [==============================] - 0s 17ms/step - loss: 11.3585\n",
            "Epoch 110/150\n",
            "1/1 [==============================] - 0s 10ms/step - loss: 11.3913\n",
            "Epoch 111/150\n",
            "1/1 [==============================] - 0s 10ms/step - loss: 11.4149\n",
            "Epoch 112/150\n",
            "1/1 [==============================] - 0s 10ms/step - loss: 11.4284\n",
            "Epoch 113/150\n",
            "1/1 [==============================] - 0s 11ms/step - loss: 11.4319\n",
            "Epoch 114/150\n",
            "1/1 [==============================] - 0s 10ms/step - loss: 11.4260\n",
            "Epoch 115/150\n",
            "1/1 [==============================] - 0s 11ms/step - loss: 11.4120\n",
            "Epoch 116/150\n",
            "1/1 [==============================] - 0s 12ms/step - loss: 11.3913\n",
            "Epoch 117/150\n",
            "1/1 [==============================] - 0s 11ms/step - loss: 11.3656\n",
            "Epoch 118/150\n",
            "1/1 [==============================] - 0s 11ms/step - loss: 11.3364\n",
            "Epoch 119/150\n",
            "1/1 [==============================] - 0s 14ms/step - loss: 11.3054\n",
            "Epoch 120/150\n",
            "1/1 [==============================] - 0s 14ms/step - loss: 11.2742\n",
            "Epoch 121/150\n",
            "1/1 [==============================] - 0s 10ms/step - loss: 11.2438\n",
            "Epoch 122/150\n",
            "1/1 [==============================] - 0s 10ms/step - loss: 11.2154\n",
            "Epoch 123/150\n",
            "1/1 [==============================] - 0s 9ms/step - loss: 11.1898\n",
            "Epoch 124/150\n",
            "1/1 [==============================] - 0s 11ms/step - loss: 11.1673\n",
            "Epoch 125/150\n",
            "1/1 [==============================] - 0s 11ms/step - loss: 11.1483\n",
            "Epoch 126/150\n",
            "1/1 [==============================] - 0s 10ms/step - loss: 11.1327\n",
            "Epoch 127/150\n",
            "1/1 [==============================] - 0s 9ms/step - loss: 11.1206\n",
            "Epoch 128/150\n",
            "1/1 [==============================] - 0s 10ms/step - loss: 11.1115\n",
            "Epoch 129/150\n",
            "1/1 [==============================] - 0s 10ms/step - loss: 11.1052\n",
            "Epoch 130/150\n",
            "1/1 [==============================] - 0s 10ms/step - loss: 11.1010\n",
            "Epoch 131/150\n",
            "1/1 [==============================] - 0s 12ms/step - loss: 11.0987\n",
            "Epoch 132/150\n",
            "1/1 [==============================] - 0s 13ms/step - loss: 11.0978\n",
            "Epoch 133/150\n",
            "1/1 [==============================] - 0s 11ms/step - loss: 11.0976\n",
            "Epoch 134/150\n",
            "1/1 [==============================] - 0s 11ms/step - loss: 11.0979\n",
            "Epoch 135/150\n",
            "1/1 [==============================] - 0s 12ms/step - loss: 11.0983\n",
            "Epoch 136/150\n",
            "1/1 [==============================] - 0s 31ms/step - loss: 11.0984\n",
            "Epoch 137/150\n",
            "1/1 [==============================] - 0s 24ms/step - loss: 11.0981\n",
            "Epoch 138/150\n",
            "1/1 [==============================] - 0s 17ms/step - loss: 11.0970\n",
            "Epoch 139/150\n",
            "1/1 [==============================] - 0s 14ms/step - loss: 11.0951\n",
            "Epoch 140/150\n",
            "1/1 [==============================] - 0s 10ms/step - loss: 11.0922\n",
            "Epoch 141/150\n",
            "1/1 [==============================] - 0s 42ms/step - loss: 11.0884\n",
            "Epoch 142/150\n",
            "1/1 [==============================] - 0s 7ms/step - loss: 11.0835\n",
            "Epoch 143/150\n",
            "1/1 [==============================] - 0s 16ms/step - loss: 11.0777\n",
            "Epoch 144/150\n",
            "1/1 [==============================] - 0s 10ms/step - loss: 11.0709\n",
            "Epoch 145/150\n",
            "1/1 [==============================] - 0s 10ms/step - loss: 11.0633\n",
            "Epoch 146/150\n",
            "1/1 [==============================] - 0s 14ms/step - loss: 11.0553\n",
            "Epoch 147/150\n",
            "1/1 [==============================] - 0s 12ms/step - loss: 11.0481\n",
            "Epoch 148/150\n",
            "1/1 [==============================] - 0s 12ms/step - loss: 11.0432\n",
            "Epoch 149/150\n",
            "1/1 [==============================] - 0s 12ms/step - loss: 11.0406\n",
            "Epoch 150/150\n",
            "1/1 [==============================] - 0s 12ms/step - loss: 11.0364\n"
          ],
          "name": "stdout"
        },
        {
          "output_type": "execute_result",
          "data": {
            "text/plain": [
              "<tensorflow.python.keras.callbacks.History at 0x7f979305c588>"
            ]
          },
          "metadata": {
            "tags": []
          },
          "execution_count": 59
        }
      ]
    },
    {
      "cell_type": "markdown",
      "metadata": {
        "id": "yduplDxwQ0qo"
      },
      "source": [
        "###PREDICTING THE NEXT 10 VALUES"
      ]
    },
    {
      "cell_type": "code",
      "metadata": {
        "colab": {
          "base_uri": "https://localhost:8080/"
        },
        "id": "tgN9NPv7Qscw",
        "outputId": "7557167b-2a74-467b-ce1a-4f8d63e3a199"
      },
      "source": [
        "x_input = np.array([164, 170, 175])\r\n",
        "temp_input=list(x_input)\r\n",
        "lst_output=[]\r\n",
        "i=0\r\n",
        "while(i<10):\r\n",
        "    \r\n",
        "    if(len(temp_input)>3):\r\n",
        "        x_input=np.array(temp_input[1:])\r\n",
        "        print(\"{} Year input {}\".format(i,x_input))\r\n",
        "        #print(x_input)\r\n",
        "        x_input = x_input.reshape((1, n_steps, n_features))\r\n",
        "        #print(x_input)\r\n",
        "        yhat = lstm.predict(x_input, verbose=0)\r\n",
        "        print(\"{} Year output {}\".format(i,yhat))\r\n",
        "        temp_input.append(yhat[0][0])\r\n",
        "        temp_input=temp_input[1:]\r\n",
        "        #print(temp_input)\r\n",
        "        lst_output.append(yhat[0][0])\r\n",
        "        i=i+1\r\n",
        "    else:\r\n",
        "        x_input = x_input.reshape((1, n_steps, n_features))\r\n",
        "        yhat = lstm.predict(x_input, verbose=0)\r\n",
        "        print(yhat[0])\r\n",
        "        temp_input.append(yhat[0][0])\r\n",
        "        lst_output.append(yhat[0][0])\r\n",
        "        i=i+1\r\n",
        "    "
      ],
      "execution_count": null,
      "outputs": [
        {
          "output_type": "stream",
          "text": [
            "[182.76826]\n",
            "1 Year input [170.         175.         182.76826477]\n",
            "1 Year output [[189.13359]]\n",
            "2 Year input [175.         182.76826477 189.1335907 ]\n",
            "2 Year output [[195.69867]]\n",
            "3 Year input [182.76826 189.13359 195.69867]\n",
            "3 Year output [[203.24641]]\n",
            "4 Year input [189.13359 195.69867 203.24641]\n",
            "4 Year output [[210.2935]]\n",
            "5 Year input [195.69867 203.24641 210.2935 ]\n",
            "5 Year output [[217.70695]]\n",
            "6 Year input [203.24641 210.2935  217.70695]\n",
            "6 Year output [[225.50185]]\n",
            "7 Year input [210.2935  217.70695 225.50185]\n",
            "7 Year output [[233.23805]]\n",
            "8 Year input [217.70695 225.50185 233.23805]\n",
            "8 Year output [[241.28938]]\n",
            "9 Year input [225.50185 233.23805 241.28938]\n",
            "9 Year output [[249.56717]]\n"
          ],
          "name": "stdout"
        }
      ]
    },
    {
      "cell_type": "code",
      "metadata": {
        "colab": {
          "base_uri": "https://localhost:8080/"
        },
        "id": "OeuNbkrbRvZn",
        "outputId": "aac93fa5-7138-4a23-d807-0661a8871107"
      },
      "source": [
        "lst_output"
      ],
      "execution_count": null,
      "outputs": [
        {
          "output_type": "execute_result",
          "data": {
            "text/plain": [
              "[182.76826,\n",
              " 189.13359,\n",
              " 195.69867,\n",
              " 203.24641,\n",
              " 210.2935,\n",
              " 217.70695,\n",
              " 225.50185,\n",
              " 233.23805,\n",
              " 241.28938,\n",
              " 249.56717]"
            ]
          },
          "metadata": {
            "tags": []
          },
          "execution_count": 67
        }
      ]
    },
    {
      "cell_type": "code",
      "metadata": {
        "id": "-zkpU9B2SI4D"
      },
      "source": [
        "height_sequence = [127, 130, 135, 138, 140, 149, 156, 164, 170, 175]"
      ],
      "execution_count": null,
      "outputs": []
    },
    {
      "cell_type": "code",
      "metadata": {
        "id": "WIe5LLTnSTJB"
      },
      "source": [
        "height_new = np.arange(1,10)\r\n",
        "height_pred = np.arange(10,20)"
      ],
      "execution_count": null,
      "outputs": []
    },
    {
      "cell_type": "code",
      "metadata": {
        "colab": {
          "base_uri": "https://localhost:8080/",
          "height": 283
        },
        "id": "UTrmWfGWSe1b",
        "outputId": "e79f6d5f-ef95-4421-a029-dc49ddef6e6f"
      },
      "source": [
        "plt.plot(height_new, height_sequence)\r\n",
        "plt.plot(height_pred, lst_output)"
      ],
      "execution_count": null,
      "outputs": [
        {
          "output_type": "execute_result",
          "data": {
            "text/plain": [
              "[<matplotlib.lines.Line2D at 0x7f9791417668>]"
            ]
          },
          "metadata": {
            "tags": []
          },
          "execution_count": 71
        },
        {
          "output_type": "display_data",
          "data": {
            "image/png": "[encoded data removed]",
            "text/plain": [
              "<Figure size 432x288 with 1 Axes>"
            ]
          },
          "metadata": {
            "tags": [],
            "needs_background": "light"
          }
        }
      ]
    },
    {
      "cell_type": "code",
      "metadata": {
        "id": "ACmoGjpFWEQ8"
      },
      "source": [
        ""
      ],
      "execution_count": null,
      "outputs": []
    }
  ]
}